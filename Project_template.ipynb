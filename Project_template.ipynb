{
 "cells": [
  {
   "cell_type": "markdown",
   "metadata": {},
   "source": [
    "# Midterm project submission\n",
    "Due April 4th (Sunday) 23:59pm.\n",
    "\n",
    "You should address all the questions relevant to your project.\n",
    "You will not be graded based on the values of the model performance, but on whether or not you have applied the right methodology: formulated the business model, translated it into a right machine learning approach, analyzed your data, prepared it for modelling, applied at least one machine learning approach, used cross validation for model tuning, evaluated your model using the relevant metrics.\n",
    "\n",
    "If you have tried different approaches, please include them all, and not just the best one.\n",
    "If doing some feature engineering or feature selection has improved your model, also please include all of the steps, not just the most sucessfull ones."
   ]
  },
  {
   "cell_type": "markdown",
   "metadata": {},
   "source": [
    "Here, fill out the student IDs:"
   ]
  },
  {
   "source": [
    "#### Diogo Baltazar - 29134\n",
    "#### Raul Moreno - 47495\n",
    "    Fill in yours guys"
   ],
   "cell_type": "markdown",
   "metadata": {}
  },
  {
   "cell_type": "markdown",
   "metadata": {},
   "source": [
    "## What business problem are you solving?\n",
    "Please state clearly what business problem are you solving (one sentence). You may add a few sentences to explain why is this a relevant problem.\n"
   ]
  },
  {
   "source": [
    "For our project we are going to try to predict if an individual will be accepted for a loan or not.\n",
    "\n",
    "This is an extremely relevant problem specially for banks, as they have certain risk metrics that need to comply with on a daily nasis"
   ],
   "cell_type": "markdown",
   "metadata": {}
  },
  {
   "cell_type": "code",
   "execution_count": 1,
   "metadata": {},
   "outputs": [],
   "source": [
    "import pandas as pd \n",
    "import numpy as np \n",
    "import scipy\n",
    "from scipy.stats import zscore\n",
    "import matplotlib.pyplot as plt\n",
    "from statsmodels.graphics.mosaicplot import mosaic\n",
    "import seaborn as sns\n",
    "import plotly.express as px\n",
    "import plotly.graph_objects as go\n",
    "from tqdm import tqdm # great progress bar"
   ]
  },
  {
   "source": [],
   "cell_type": "markdown",
   "metadata": {}
  },
  {
   "cell_type": "markdown",
   "metadata": {},
   "source": [
    "## What is the machine learning problem that you are solving?\n",
    "Is it a classification problem or a regression problem? \n",
    "Is the goal to build a model that generates a ranked list, or is it to detect anomalies as new data come in? \n",
    "Are you doing clustering to find hidden patterns?\n",
    "If applicable, what is your target?"
   ]
  },
  {
   "source": [
    "### Classification problem, are we going to do clustering?"
   ],
   "cell_type": "markdown",
   "metadata": {}
  },
  {
   "cell_type": "markdown",
   "metadata": {},
   "source": [
    "## Data exploration and preparation \n",
    "\n",
    "- How many data instances do you have?\n",
    "- Do you have duplicates?\n",
    "- How many features? What type are they?\n",
    "- If they are categorical, what categories they have, what is their frequency?\n",
    "- If they are numerical, what is their distribution?\n",
    "- What is the distribution of the target variable?\n",
    "- If you have a target, you can also check the relationship between the target and the variables.\n",
    "- Do you have missing data? If yes, how are you going to handle it?\n",
    "- Can you use the features in their original form, or do you need to alter them in some way?\n",
    "\n",
    "If you have a lot of features, for midterm submission, you can choose to use only a subset."
   ]
  },
  {
   "cell_type": "code",
   "execution_count": 2,
   "metadata": {},
   "outputs": [
    {
     "output_type": "execute_result",
     "data": {
      "text/plain": [
       "  checking_status   duration credit_history purpose  credit_amount  \\\n",
       "0              V0  12.004672             V2      V3    1069.707979   \n",
       "1              V3  49.594552             V2      V2    3363.626999   \n",
       "2              V3  16.498608             V2      V3    8146.275518   \n",
       "3              V1   9.031862             V1      V0     860.689994   \n",
       "4              V3  12.401648             V4      V2    1390.126876   \n",
       "\n",
       "  savings_status employment  installment_commitment personal_status  \\\n",
       "0             V0         V2                       4              V2   \n",
       "1             V0         V2                       4              V2   \n",
       "2             V0         V1                       1              V1   \n",
       "3             V0         V4                       4              V1   \n",
       "4             V3         V4                       1              V2   \n",
       "\n",
       "  other_parties  ...  property_magnitude        age  other_payment_plans  \\\n",
       "0            V1  ...                  V2  30.587687                 none   \n",
       "1            V0  ...                  V2  27.943103                 none   \n",
       "2            V0  ...                  V3  32.209940                 none   \n",
       "3            V0  ...                  V0  42.614952                 none   \n",
       "4            V0  ...                  V0  25.142543                 none   \n",
       "\n",
       "  housing existing_credits  job num_dependents  own_telephone foreign_worker  \\\n",
       "0      V1                1   V2              1            yes            yes   \n",
       "1      V1                1   V2              1           none            yes   \n",
       "2      V1                1   V2              1           none            yes   \n",
       "3      V1                2   V1              1            yes            yes   \n",
       "4      V1                4   V2              1           none            yes   \n",
       "\n",
       "  class  \n",
       "0  good  \n",
       "1  good  \n",
       "2  good  \n",
       "3  good  \n",
       "4  good  \n",
       "\n",
       "[5 rows x 21 columns]"
      ],
      "text/html": "<div>\n<style scoped>\n    .dataframe tbody tr th:only-of-type {\n        vertical-align: middle;\n    }\n\n    .dataframe tbody tr th {\n        vertical-align: top;\n    }\n\n    .dataframe thead th {\n        text-align: right;\n    }\n</style>\n<table border=\"1\" class=\"dataframe\">\n  <thead>\n    <tr style=\"text-align: right;\">\n      <th></th>\n      <th>checking_status</th>\n      <th>duration</th>\n      <th>credit_history</th>\n      <th>purpose</th>\n      <th>credit_amount</th>\n      <th>savings_status</th>\n      <th>employment</th>\n      <th>installment_commitment</th>\n      <th>personal_status</th>\n      <th>other_parties</th>\n      <th>...</th>\n      <th>property_magnitude</th>\n      <th>age</th>\n      <th>other_payment_plans</th>\n      <th>housing</th>\n      <th>existing_credits</th>\n      <th>job</th>\n      <th>num_dependents</th>\n      <th>own_telephone</th>\n      <th>foreign_worker</th>\n      <th>class</th>\n    </tr>\n  </thead>\n  <tbody>\n    <tr>\n      <th>0</th>\n      <td>V0</td>\n      <td>12.004672</td>\n      <td>V2</td>\n      <td>V3</td>\n      <td>1069.707979</td>\n      <td>V0</td>\n      <td>V2</td>\n      <td>4</td>\n      <td>V2</td>\n      <td>V1</td>\n      <td>...</td>\n      <td>V2</td>\n      <td>30.587687</td>\n      <td>none</td>\n      <td>V1</td>\n      <td>1</td>\n      <td>V2</td>\n      <td>1</td>\n      <td>yes</td>\n      <td>yes</td>\n      <td>good</td>\n    </tr>\n    <tr>\n      <th>1</th>\n      <td>V3</td>\n      <td>49.594552</td>\n      <td>V2</td>\n      <td>V2</td>\n      <td>3363.626999</td>\n      <td>V0</td>\n      <td>V2</td>\n      <td>4</td>\n      <td>V2</td>\n      <td>V0</td>\n      <td>...</td>\n      <td>V2</td>\n      <td>27.943103</td>\n      <td>none</td>\n      <td>V1</td>\n      <td>1</td>\n      <td>V2</td>\n      <td>1</td>\n      <td>none</td>\n      <td>yes</td>\n      <td>good</td>\n    </tr>\n    <tr>\n      <th>2</th>\n      <td>V3</td>\n      <td>16.498608</td>\n      <td>V2</td>\n      <td>V3</td>\n      <td>8146.275518</td>\n      <td>V0</td>\n      <td>V1</td>\n      <td>1</td>\n      <td>V1</td>\n      <td>V0</td>\n      <td>...</td>\n      <td>V3</td>\n      <td>32.209940</td>\n      <td>none</td>\n      <td>V1</td>\n      <td>1</td>\n      <td>V2</td>\n      <td>1</td>\n      <td>none</td>\n      <td>yes</td>\n      <td>good</td>\n    </tr>\n    <tr>\n      <th>3</th>\n      <td>V1</td>\n      <td>9.031862</td>\n      <td>V1</td>\n      <td>V0</td>\n      <td>860.689994</td>\n      <td>V0</td>\n      <td>V4</td>\n      <td>4</td>\n      <td>V1</td>\n      <td>V0</td>\n      <td>...</td>\n      <td>V0</td>\n      <td>42.614952</td>\n      <td>none</td>\n      <td>V1</td>\n      <td>2</td>\n      <td>V1</td>\n      <td>1</td>\n      <td>yes</td>\n      <td>yes</td>\n      <td>good</td>\n    </tr>\n    <tr>\n      <th>4</th>\n      <td>V3</td>\n      <td>12.401648</td>\n      <td>V4</td>\n      <td>V2</td>\n      <td>1390.126876</td>\n      <td>V3</td>\n      <td>V4</td>\n      <td>1</td>\n      <td>V2</td>\n      <td>V0</td>\n      <td>...</td>\n      <td>V0</td>\n      <td>25.142543</td>\n      <td>none</td>\n      <td>V1</td>\n      <td>4</td>\n      <td>V2</td>\n      <td>1</td>\n      <td>none</td>\n      <td>yes</td>\n      <td>good</td>\n    </tr>\n  </tbody>\n</table>\n<p>5 rows × 21 columns</p>\n</div>"
     },
     "metadata": {},
     "execution_count": 2
    }
   ],
   "source": [
    "df = pd.read_csv(r'bank_loans_100k.csv')\n",
    "df.head(5)"
   ]
  },
  {
   "cell_type": "code",
   "execution_count": 3,
   "metadata": {},
   "outputs": [],
   "source": [
    "# In case we decide to drop some columns\n",
    "\n",
    "# df.drop(columns = '', axis=1, inplace=True)"
   ]
  },
  {
   "cell_type": "code",
   "execution_count": 4,
   "metadata": {},
   "outputs": [
    {
     "output_type": "execute_result",
     "data": {
      "text/plain": [
       "            duration  credit_amount  installment_commitment  residence_since  \\\n",
       "count  100000.000000  100000.000000           100000.000000    100000.000000   \n",
       "mean       20.890539    3213.171968                2.955870         2.834780   \n",
       "std        12.066117    2792.189516                1.121461         1.104171   \n",
       "min        -0.367414   -5997.669542                1.000000         1.000000   \n",
       "25%        11.964964    1389.439247                2.000000         2.000000   \n",
       "50%        18.104977    2278.939296                3.000000         3.000000   \n",
       "75%        24.926525    3823.169880                4.000000         4.000000   \n",
       "max        73.201640   19664.977900                4.000000         4.000000   \n",
       "\n",
       "                 age  existing_credits  num_dependents  \n",
       "count  100000.000000     100000.000000   100000.000000  \n",
       "mean       35.608080          1.424040        1.158470  \n",
       "std        11.246885          0.608057        0.365183  \n",
       "min        17.463871          1.000000        1.000000  \n",
       "25%        27.164384          1.000000        1.000000  \n",
       "50%        33.115064          1.000000        1.000000  \n",
       "75%        40.936065          2.000000        1.000000  \n",
       "max        83.846943          4.000000        2.000000  "
      ],
      "text/html": "<div>\n<style scoped>\n    .dataframe tbody tr th:only-of-type {\n        vertical-align: middle;\n    }\n\n    .dataframe tbody tr th {\n        vertical-align: top;\n    }\n\n    .dataframe thead th {\n        text-align: right;\n    }\n</style>\n<table border=\"1\" class=\"dataframe\">\n  <thead>\n    <tr style=\"text-align: right;\">\n      <th></th>\n      <th>duration</th>\n      <th>credit_amount</th>\n      <th>installment_commitment</th>\n      <th>residence_since</th>\n      <th>age</th>\n      <th>existing_credits</th>\n      <th>num_dependents</th>\n    </tr>\n  </thead>\n  <tbody>\n    <tr>\n      <th>count</th>\n      <td>100000.000000</td>\n      <td>100000.000000</td>\n      <td>100000.000000</td>\n      <td>100000.000000</td>\n      <td>100000.000000</td>\n      <td>100000.000000</td>\n      <td>100000.000000</td>\n    </tr>\n    <tr>\n      <th>mean</th>\n      <td>20.890539</td>\n      <td>3213.171968</td>\n      <td>2.955870</td>\n      <td>2.834780</td>\n      <td>35.608080</td>\n      <td>1.424040</td>\n      <td>1.158470</td>\n    </tr>\n    <tr>\n      <th>std</th>\n      <td>12.066117</td>\n      <td>2792.189516</td>\n      <td>1.121461</td>\n      <td>1.104171</td>\n      <td>11.246885</td>\n      <td>0.608057</td>\n      <td>0.365183</td>\n    </tr>\n    <tr>\n      <th>min</th>\n      <td>-0.367414</td>\n      <td>-5997.669542</td>\n      <td>1.000000</td>\n      <td>1.000000</td>\n      <td>17.463871</td>\n      <td>1.000000</td>\n      <td>1.000000</td>\n    </tr>\n    <tr>\n      <th>25%</th>\n      <td>11.964964</td>\n      <td>1389.439247</td>\n      <td>2.000000</td>\n      <td>2.000000</td>\n      <td>27.164384</td>\n      <td>1.000000</td>\n      <td>1.000000</td>\n    </tr>\n    <tr>\n      <th>50%</th>\n      <td>18.104977</td>\n      <td>2278.939296</td>\n      <td>3.000000</td>\n      <td>3.000000</td>\n      <td>33.115064</td>\n      <td>1.000000</td>\n      <td>1.000000</td>\n    </tr>\n    <tr>\n      <th>75%</th>\n      <td>24.926525</td>\n      <td>3823.169880</td>\n      <td>4.000000</td>\n      <td>4.000000</td>\n      <td>40.936065</td>\n      <td>2.000000</td>\n      <td>1.000000</td>\n    </tr>\n    <tr>\n      <th>max</th>\n      <td>73.201640</td>\n      <td>19664.977900</td>\n      <td>4.000000</td>\n      <td>4.000000</td>\n      <td>83.846943</td>\n      <td>4.000000</td>\n      <td>2.000000</td>\n    </tr>\n  </tbody>\n</table>\n</div>"
     },
     "metadata": {},
     "execution_count": 4
    }
   ],
   "source": [
    "df.describe()"
   ]
  },
  {
   "cell_type": "code",
   "execution_count": 5,
   "metadata": {},
   "outputs": [
    {
     "output_type": "stream",
     "name": "stdout",
     "text": [
      "Maximum credit amount in our data set is: 19664.98\n---------------------------------------------------\nMinimum credit amount in our data set is: -5997.67\n"
     ]
    }
   ],
   "source": [
    "print(\"Maximum credit amount in our data set is:\",round(df['credit_amount'].max(), 2))\n",
    "print(\"---------------------------------------------------\")\n",
    "print(\"Minimum credit amount in our data set is:\", round(df['credit_amount'].min(), 2))"
   ]
  },
  {
   "cell_type": "code",
   "execution_count": 6,
   "metadata": {},
   "outputs": [
    {
     "output_type": "stream",
     "name": "stdout",
     "text": [
      "<class 'pandas.core.frame.DataFrame'>\nRangeIndex: 100000 entries, 0 to 99999\nData columns (total 21 columns):\n #   Column                  Non-Null Count   Dtype  \n---  ------                  --------------   -----  \n 0   checking_status         100000 non-null  object \n 1   duration                100000 non-null  float64\n 2   credit_history          100000 non-null  object \n 3   purpose                 100000 non-null  object \n 4   credit_amount           100000 non-null  float64\n 5   savings_status          100000 non-null  object \n 6   employment              100000 non-null  object \n 7   installment_commitment  100000 non-null  int64  \n 8   personal_status         100000 non-null  object \n 9   other_parties           100000 non-null  object \n 10  residence_since         100000 non-null  int64  \n 11  property_magnitude      100000 non-null  object \n 12  age                     100000 non-null  float64\n 13  other_payment_plans     100000 non-null  object \n 14  housing                 100000 non-null  object \n 15  existing_credits        100000 non-null  int64  \n 16  job                     100000 non-null  object \n 17  num_dependents          100000 non-null  int64  \n 18  own_telephone           100000 non-null  object \n 19  foreign_worker          100000 non-null  object \n 20  class                   100000 non-null  object \ndtypes: float64(3), int64(4), object(14)\nmemory usage: 16.0+ MB\n"
     ]
    }
   ],
   "source": [
    "df.info()"
   ]
  },
  {
   "cell_type": "code",
   "execution_count": 7,
   "metadata": {},
   "outputs": [
    {
     "output_type": "execute_result",
     "data": {
      "text/plain": [
       "(100000, 21)"
      ]
     },
     "metadata": {},
     "execution_count": 7
    }
   ],
   "source": [
    "df.shape"
   ]
  },
  {
   "cell_type": "code",
   "execution_count": 8,
   "metadata": {},
   "outputs": [
    {
     "output_type": "stream",
     "name": "stdout",
     "text": [
      "Empty DataFrame\nColumns: [checking_status, duration, credit_history, purpose, credit_amount, savings_status, employment, installment_commitment, personal_status, other_parties, residence_since, property_magnitude, age, other_payment_plans, housing, existing_credits, job, num_dependents, own_telephone, foreign_worker, class]\nIndex: []\n\n[0 rows x 21 columns]\n"
     ]
    }
   ],
   "source": [
    "# Checking for duplciates; we dont have any\n",
    "\n",
    "duplicateRowsDF = df[df.duplicated(keep='last')]\n",
    "print(duplicateRowsDF)"
   ]
  },
  {
   "cell_type": "code",
   "execution_count": 9,
   "metadata": {},
   "outputs": [
    {
     "output_type": "execute_result",
     "data": {
      "text/plain": [
       "                        checking_status    duration  credit_history  \\\n",
       "checking_status              100.000000   -0.315866        0.026124   \n",
       "duration                      -0.315866  100.000000        0.461998   \n",
       "credit_history                 0.026124    0.461998      100.000000   \n",
       "purpose                       -0.658276    0.028042       -0.254972   \n",
       "credit_amount                 -0.308336   99.702303        0.460518   \n",
       "savings_status                10.269887   -0.065927        0.589277   \n",
       "employment                     0.701268   -0.241969       -0.331057   \n",
       "installment_commitment         0.165921    0.114824        0.012421   \n",
       "personal_status               -0.531563   -0.274239        0.057709   \n",
       "other_parties                  0.869740    0.524580        0.359945   \n",
       "residence_since                0.730444    0.050412        0.323884   \n",
       "property_magnitude             0.091119    0.246534        0.038365   \n",
       "age                           -0.320528   99.562373        0.468654   \n",
       "other_payment_plans           -1.227087   -0.173886        8.912637   \n",
       "housing                       -0.884572    0.081469       -0.433073   \n",
       "existing_credits              -0.005859    0.296182       45.061720   \n",
       "job                            0.043869    0.409985       -0.415576   \n",
       "num_dependents                -0.575912   -0.019076        0.085066   \n",
       "own_telephone                 -0.092097   -0.613331        0.037219   \n",
       "foreign_worker                 0.503044    0.282598        0.440537   \n",
       "class                         -9.693609    0.317903       -2.510933   \n",
       "\n",
       "                           purpose  credit_amount  savings_status  employment  \\\n",
       "checking_status          -0.658276      -0.308336       10.269887    0.701268   \n",
       "duration                  0.028042      99.702303       -0.065927   -0.241969   \n",
       "credit_history           -0.254972       0.460518        0.589277   -0.331057   \n",
       "purpose                 100.000000       0.034327       -1.143564   -0.587428   \n",
       "credit_amount             0.034327     100.000000       -0.052062   -0.204488   \n",
       "savings_status           -1.143564      -0.052062      100.000000    1.073918   \n",
       "employment               -0.587428      -0.204488        1.073918  100.000000   \n",
       "installment_commitment   -0.733265       0.099238        0.291309    0.146207   \n",
       "personal_status           0.446451      -0.292913       -1.142617   -0.576789   \n",
       "other_parties            -0.486711       0.498096        1.163377    0.525980   \n",
       "residence_since          -0.089533       0.076703        1.090692   13.959536   \n",
       "property_magnitude       -0.383853       0.291408        0.865960    0.162507   \n",
       "age                       0.022567      99.860565       -0.057171   -0.197752   \n",
       "other_payment_plans       1.025296      -0.193338       -1.372900   -0.785174   \n",
       "housing                   0.958725       0.035060       -1.905238   -0.868152   \n",
       "existing_credits         -0.311095       0.303052        0.642661   -0.028309   \n",
       "job                      -0.163514       0.432091       -0.385102   21.857004   \n",
       "num_dependents           -0.071671      -0.026800        0.258757    0.350797   \n",
       "own_telephone             0.204768      -0.637778       -0.692971   -8.706735   \n",
       "foreign_worker            0.105657       0.277708        1.489895   -0.353094   \n",
       "class                     7.168168       0.273987      -15.451010   -4.921804   \n",
       "\n",
       "                        installment_commitment  personal_status  \\\n",
       "checking_status                       0.165921        -0.531563   \n",
       "duration                              0.114824        -0.274239   \n",
       "credit_history                        0.012421         0.057709   \n",
       "purpose                              -0.733265         0.446451   \n",
       "credit_amount                         0.099238        -0.292913   \n",
       "savings_status                        0.291309        -1.142617   \n",
       "employment                            0.146207        -0.576789   \n",
       "installment_commitment              100.000000        -0.286321   \n",
       "personal_status                      -0.286321       100.000000   \n",
       "other_parties                         0.618412        -0.819065   \n",
       "residence_since                      -0.125805        -0.086771   \n",
       "property_magnitude                   -2.664276        -0.686878   \n",
       "age                                   0.096129        -0.278128   \n",
       "other_payment_plans                  -1.069865         1.178073   \n",
       "housing                               2.253995         0.908396   \n",
       "existing_credits                      0.485972         0.023802   \n",
       "job                                   0.046987         0.927778   \n",
       "num_dependents                        0.242927       -22.066250   \n",
       "own_telephone                         0.548746         0.403166   \n",
       "foreign_worker                        0.346186         0.053260   \n",
       "class                                -3.062280         7.140341   \n",
       "\n",
       "                        other_parties  ...  property_magnitude         age  \\\n",
       "checking_status              0.869740  ...            0.091119   -0.320528   \n",
       "duration                     0.524580  ...            0.246534   99.562373   \n",
       "credit_history               0.359945  ...            0.038365    0.468654   \n",
       "purpose                     -0.486711  ...           -0.383853    0.022567   \n",
       "credit_amount                0.498096  ...            0.291408   99.860565   \n",
       "savings_status               1.163377  ...            0.865960   -0.057171   \n",
       "employment                   0.525980  ...            0.162507   -0.197752   \n",
       "installment_commitment       0.618412  ...           -2.664276    0.096129   \n",
       "personal_status             -0.819065  ...           -0.686878   -0.278128   \n",
       "other_parties              100.000000  ...            5.371778    0.515075   \n",
       "residence_since              0.461404  ...            0.424312    0.095219   \n",
       "property_magnitude           5.371778  ...          100.000000    0.284417   \n",
       "age                          0.515075  ...            0.284417  100.000000   \n",
       "other_payment_plans         -0.738303  ...           -0.827697   -0.190682   \n",
       "housing                     -4.149279  ...           -8.843083    0.048203   \n",
       "existing_credits            -0.014952  ...            0.446483    0.313270   \n",
       "job                         -0.357762  ...            0.405284    0.453013   \n",
       "num_dependents               0.321177  ...           -0.308515   -0.025311   \n",
       "own_telephone                0.208117  ...           -0.563908   -0.641996   \n",
       "foreign_worker               0.481280  ...            0.143421    0.285597   \n",
       "class                       -7.567453  ...           -4.538939    0.254249   \n",
       "\n",
       "                        other_payment_plans     housing  existing_credits  \\\n",
       "checking_status                   -1.227087   -0.884572         -0.005859   \n",
       "duration                          -0.173886    0.081469          0.296182   \n",
       "credit_history                     8.912637   -0.433073         45.061720   \n",
       "purpose                            1.025296    0.958725         -0.311095   \n",
       "credit_amount                     -0.193338    0.035060          0.303052   \n",
       "savings_status                    -1.372900   -1.905238          0.642661   \n",
       "employment                        -0.785174   -0.868152         -0.028309   \n",
       "installment_commitment            -1.069865    2.253995          0.485972   \n",
       "personal_status                    1.178073    0.908396          0.023802   \n",
       "other_parties                     -0.738303   -4.149279         -0.014952   \n",
       "residence_since                   -0.205129   -0.250221         -0.205979   \n",
       "property_magnitude                -0.827697   -8.843083          0.446483   \n",
       "age                               -0.190682    0.048203          0.313270   \n",
       "other_payment_plans              100.000000    1.302232          0.061864   \n",
       "housing                            1.302232  100.000000         -0.212019   \n",
       "existing_credits                   0.061864   -0.212019        100.000000   \n",
       "job                                0.518158    0.144849         -0.388128   \n",
       "num_dependents                    -0.384874    0.248408         -0.005113   \n",
       "own_telephone                      0.212590    0.190214          0.076323   \n",
       "foreign_worker                    -1.291059   -0.680672         -0.033346   \n",
       "class                             10.543909   12.547839         -3.135397   \n",
       "\n",
       "                               job  num_dependents  own_telephone  \\\n",
       "checking_status           0.043869       -0.575912      -0.092097   \n",
       "duration                  0.409985       -0.019076      -0.613331   \n",
       "credit_history           -0.415576        0.085066       0.037219   \n",
       "purpose                  -0.163514       -0.071671       0.204768   \n",
       "credit_amount             0.432091       -0.026800      -0.637778   \n",
       "savings_status           -0.385102        0.258757      -0.692971   \n",
       "employment               21.857004        0.350797      -8.706735   \n",
       "installment_commitment    0.046987        0.242927       0.548746   \n",
       "personal_status           0.927778      -22.066250       0.403166   \n",
       "other_parties            -0.357762        0.321177       0.208117   \n",
       "residence_since           0.638919        0.466151       0.195821   \n",
       "property_magnitude        0.405284       -0.308515      -0.563908   \n",
       "age                       0.453013       -0.025311      -0.641996   \n",
       "other_payment_plans       0.518158       -0.384874       0.212590   \n",
       "housing                   0.144849        0.248408       0.190214   \n",
       "existing_credits         -0.388128       -0.005113       0.076323   \n",
       "job                     100.000000       -0.151130     -27.118376   \n",
       "num_dependents           -0.151130      100.000000      -0.043612   \n",
       "own_telephone           -27.118376       -0.043612     100.000000   \n",
       "foreign_worker           -2.758048        0.449034      10.000161   \n",
       "class                     3.628884        0.337973       3.387500   \n",
       "\n",
       "                        foreign_worker       class  \n",
       "checking_status               0.503044   -9.693609  \n",
       "duration                      0.282598    0.317903  \n",
       "credit_history                0.440537   -2.510933  \n",
       "purpose                       0.105657    7.168168  \n",
       "credit_amount                 0.277708    0.273987  \n",
       "savings_status                1.489895  -15.451010  \n",
       "employment                   -0.353094   -4.921804  \n",
       "installment_commitment        0.346186   -3.062280  \n",
       "personal_status               0.053260    7.140341  \n",
       "other_parties                 0.481280   -7.567453  \n",
       "residence_since               0.129435   -1.711692  \n",
       "property_magnitude            0.143421   -4.538939  \n",
       "age                           0.285597    0.254249  \n",
       "other_payment_plans          -1.291059   10.543909  \n",
       "housing                      -0.680672   12.547839  \n",
       "existing_credits             -0.033346   -3.135397  \n",
       "job                          -2.758048    3.628884  \n",
       "num_dependents                0.449034    0.337973  \n",
       "own_telephone                10.000161    3.387500  \n",
       "foreign_worker              100.000000   -7.274385  \n",
       "class                        -7.274385  100.000000  \n",
       "\n",
       "[21 rows x 21 columns]"
      ],
      "text/html": "<div>\n<style scoped>\n    .dataframe tbody tr th:only-of-type {\n        vertical-align: middle;\n    }\n\n    .dataframe tbody tr th {\n        vertical-align: top;\n    }\n\n    .dataframe thead th {\n        text-align: right;\n    }\n</style>\n<table border=\"1\" class=\"dataframe\">\n  <thead>\n    <tr style=\"text-align: right;\">\n      <th></th>\n      <th>checking_status</th>\n      <th>duration</th>\n      <th>credit_history</th>\n      <th>purpose</th>\n      <th>credit_amount</th>\n      <th>savings_status</th>\n      <th>employment</th>\n      <th>installment_commitment</th>\n      <th>personal_status</th>\n      <th>other_parties</th>\n      <th>...</th>\n      <th>property_magnitude</th>\n      <th>age</th>\n      <th>other_payment_plans</th>\n      <th>housing</th>\n      <th>existing_credits</th>\n      <th>job</th>\n      <th>num_dependents</th>\n      <th>own_telephone</th>\n      <th>foreign_worker</th>\n      <th>class</th>\n    </tr>\n  </thead>\n  <tbody>\n    <tr>\n      <th>checking_status</th>\n      <td>100.000000</td>\n      <td>-0.315866</td>\n      <td>0.026124</td>\n      <td>-0.658276</td>\n      <td>-0.308336</td>\n      <td>10.269887</td>\n      <td>0.701268</td>\n      <td>0.165921</td>\n      <td>-0.531563</td>\n      <td>0.869740</td>\n      <td>...</td>\n      <td>0.091119</td>\n      <td>-0.320528</td>\n      <td>-1.227087</td>\n      <td>-0.884572</td>\n      <td>-0.005859</td>\n      <td>0.043869</td>\n      <td>-0.575912</td>\n      <td>-0.092097</td>\n      <td>0.503044</td>\n      <td>-9.693609</td>\n    </tr>\n    <tr>\n      <th>duration</th>\n      <td>-0.315866</td>\n      <td>100.000000</td>\n      <td>0.461998</td>\n      <td>0.028042</td>\n      <td>99.702303</td>\n      <td>-0.065927</td>\n      <td>-0.241969</td>\n      <td>0.114824</td>\n      <td>-0.274239</td>\n      <td>0.524580</td>\n      <td>...</td>\n      <td>0.246534</td>\n      <td>99.562373</td>\n      <td>-0.173886</td>\n      <td>0.081469</td>\n      <td>0.296182</td>\n      <td>0.409985</td>\n      <td>-0.019076</td>\n      <td>-0.613331</td>\n      <td>0.282598</td>\n      <td>0.317903</td>\n    </tr>\n    <tr>\n      <th>credit_history</th>\n      <td>0.026124</td>\n      <td>0.461998</td>\n      <td>100.000000</td>\n      <td>-0.254972</td>\n      <td>0.460518</td>\n      <td>0.589277</td>\n      <td>-0.331057</td>\n      <td>0.012421</td>\n      <td>0.057709</td>\n      <td>0.359945</td>\n      <td>...</td>\n      <td>0.038365</td>\n      <td>0.468654</td>\n      <td>8.912637</td>\n      <td>-0.433073</td>\n      <td>45.061720</td>\n      <td>-0.415576</td>\n      <td>0.085066</td>\n      <td>0.037219</td>\n      <td>0.440537</td>\n      <td>-2.510933</td>\n    </tr>\n    <tr>\n      <th>purpose</th>\n      <td>-0.658276</td>\n      <td>0.028042</td>\n      <td>-0.254972</td>\n      <td>100.000000</td>\n      <td>0.034327</td>\n      <td>-1.143564</td>\n      <td>-0.587428</td>\n      <td>-0.733265</td>\n      <td>0.446451</td>\n      <td>-0.486711</td>\n      <td>...</td>\n      <td>-0.383853</td>\n      <td>0.022567</td>\n      <td>1.025296</td>\n      <td>0.958725</td>\n      <td>-0.311095</td>\n      <td>-0.163514</td>\n      <td>-0.071671</td>\n      <td>0.204768</td>\n      <td>0.105657</td>\n      <td>7.168168</td>\n    </tr>\n    <tr>\n      <th>credit_amount</th>\n      <td>-0.308336</td>\n      <td>99.702303</td>\n      <td>0.460518</td>\n      <td>0.034327</td>\n      <td>100.000000</td>\n      <td>-0.052062</td>\n      <td>-0.204488</td>\n      <td>0.099238</td>\n      <td>-0.292913</td>\n      <td>0.498096</td>\n      <td>...</td>\n      <td>0.291408</td>\n      <td>99.860565</td>\n      <td>-0.193338</td>\n      <td>0.035060</td>\n      <td>0.303052</td>\n      <td>0.432091</td>\n      <td>-0.026800</td>\n      <td>-0.637778</td>\n      <td>0.277708</td>\n      <td>0.273987</td>\n    </tr>\n    <tr>\n      <th>savings_status</th>\n      <td>10.269887</td>\n      <td>-0.065927</td>\n      <td>0.589277</td>\n      <td>-1.143564</td>\n      <td>-0.052062</td>\n      <td>100.000000</td>\n      <td>1.073918</td>\n      <td>0.291309</td>\n      <td>-1.142617</td>\n      <td>1.163377</td>\n      <td>...</td>\n      <td>0.865960</td>\n      <td>-0.057171</td>\n      <td>-1.372900</td>\n      <td>-1.905238</td>\n      <td>0.642661</td>\n      <td>-0.385102</td>\n      <td>0.258757</td>\n      <td>-0.692971</td>\n      <td>1.489895</td>\n      <td>-15.451010</td>\n    </tr>\n    <tr>\n      <th>employment</th>\n      <td>0.701268</td>\n      <td>-0.241969</td>\n      <td>-0.331057</td>\n      <td>-0.587428</td>\n      <td>-0.204488</td>\n      <td>1.073918</td>\n      <td>100.000000</td>\n      <td>0.146207</td>\n      <td>-0.576789</td>\n      <td>0.525980</td>\n      <td>...</td>\n      <td>0.162507</td>\n      <td>-0.197752</td>\n      <td>-0.785174</td>\n      <td>-0.868152</td>\n      <td>-0.028309</td>\n      <td>21.857004</td>\n      <td>0.350797</td>\n      <td>-8.706735</td>\n      <td>-0.353094</td>\n      <td>-4.921804</td>\n    </tr>\n    <tr>\n      <th>installment_commitment</th>\n      <td>0.165921</td>\n      <td>0.114824</td>\n      <td>0.012421</td>\n      <td>-0.733265</td>\n      <td>0.099238</td>\n      <td>0.291309</td>\n      <td>0.146207</td>\n      <td>100.000000</td>\n      <td>-0.286321</td>\n      <td>0.618412</td>\n      <td>...</td>\n      <td>-2.664276</td>\n      <td>0.096129</td>\n      <td>-1.069865</td>\n      <td>2.253995</td>\n      <td>0.485972</td>\n      <td>0.046987</td>\n      <td>0.242927</td>\n      <td>0.548746</td>\n      <td>0.346186</td>\n      <td>-3.062280</td>\n    </tr>\n    <tr>\n      <th>personal_status</th>\n      <td>-0.531563</td>\n      <td>-0.274239</td>\n      <td>0.057709</td>\n      <td>0.446451</td>\n      <td>-0.292913</td>\n      <td>-1.142617</td>\n      <td>-0.576789</td>\n      <td>-0.286321</td>\n      <td>100.000000</td>\n      <td>-0.819065</td>\n      <td>...</td>\n      <td>-0.686878</td>\n      <td>-0.278128</td>\n      <td>1.178073</td>\n      <td>0.908396</td>\n      <td>0.023802</td>\n      <td>0.927778</td>\n      <td>-22.066250</td>\n      <td>0.403166</td>\n      <td>0.053260</td>\n      <td>7.140341</td>\n    </tr>\n    <tr>\n      <th>other_parties</th>\n      <td>0.869740</td>\n      <td>0.524580</td>\n      <td>0.359945</td>\n      <td>-0.486711</td>\n      <td>0.498096</td>\n      <td>1.163377</td>\n      <td>0.525980</td>\n      <td>0.618412</td>\n      <td>-0.819065</td>\n      <td>100.000000</td>\n      <td>...</td>\n      <td>5.371778</td>\n      <td>0.515075</td>\n      <td>-0.738303</td>\n      <td>-4.149279</td>\n      <td>-0.014952</td>\n      <td>-0.357762</td>\n      <td>0.321177</td>\n      <td>0.208117</td>\n      <td>0.481280</td>\n      <td>-7.567453</td>\n    </tr>\n    <tr>\n      <th>residence_since</th>\n      <td>0.730444</td>\n      <td>0.050412</td>\n      <td>0.323884</td>\n      <td>-0.089533</td>\n      <td>0.076703</td>\n      <td>1.090692</td>\n      <td>13.959536</td>\n      <td>-0.125805</td>\n      <td>-0.086771</td>\n      <td>0.461404</td>\n      <td>...</td>\n      <td>0.424312</td>\n      <td>0.095219</td>\n      <td>-0.205129</td>\n      <td>-0.250221</td>\n      <td>-0.205979</td>\n      <td>0.638919</td>\n      <td>0.466151</td>\n      <td>0.195821</td>\n      <td>0.129435</td>\n      <td>-1.711692</td>\n    </tr>\n    <tr>\n      <th>property_magnitude</th>\n      <td>0.091119</td>\n      <td>0.246534</td>\n      <td>0.038365</td>\n      <td>-0.383853</td>\n      <td>0.291408</td>\n      <td>0.865960</td>\n      <td>0.162507</td>\n      <td>-2.664276</td>\n      <td>-0.686878</td>\n      <td>5.371778</td>\n      <td>...</td>\n      <td>100.000000</td>\n      <td>0.284417</td>\n      <td>-0.827697</td>\n      <td>-8.843083</td>\n      <td>0.446483</td>\n      <td>0.405284</td>\n      <td>-0.308515</td>\n      <td>-0.563908</td>\n      <td>0.143421</td>\n      <td>-4.538939</td>\n    </tr>\n    <tr>\n      <th>age</th>\n      <td>-0.320528</td>\n      <td>99.562373</td>\n      <td>0.468654</td>\n      <td>0.022567</td>\n      <td>99.860565</td>\n      <td>-0.057171</td>\n      <td>-0.197752</td>\n      <td>0.096129</td>\n      <td>-0.278128</td>\n      <td>0.515075</td>\n      <td>...</td>\n      <td>0.284417</td>\n      <td>100.000000</td>\n      <td>-0.190682</td>\n      <td>0.048203</td>\n      <td>0.313270</td>\n      <td>0.453013</td>\n      <td>-0.025311</td>\n      <td>-0.641996</td>\n      <td>0.285597</td>\n      <td>0.254249</td>\n    </tr>\n    <tr>\n      <th>other_payment_plans</th>\n      <td>-1.227087</td>\n      <td>-0.173886</td>\n      <td>8.912637</td>\n      <td>1.025296</td>\n      <td>-0.193338</td>\n      <td>-1.372900</td>\n      <td>-0.785174</td>\n      <td>-1.069865</td>\n      <td>1.178073</td>\n      <td>-0.738303</td>\n      <td>...</td>\n      <td>-0.827697</td>\n      <td>-0.190682</td>\n      <td>100.000000</td>\n      <td>1.302232</td>\n      <td>0.061864</td>\n      <td>0.518158</td>\n      <td>-0.384874</td>\n      <td>0.212590</td>\n      <td>-1.291059</td>\n      <td>10.543909</td>\n    </tr>\n    <tr>\n      <th>housing</th>\n      <td>-0.884572</td>\n      <td>0.081469</td>\n      <td>-0.433073</td>\n      <td>0.958725</td>\n      <td>0.035060</td>\n      <td>-1.905238</td>\n      <td>-0.868152</td>\n      <td>2.253995</td>\n      <td>0.908396</td>\n      <td>-4.149279</td>\n      <td>...</td>\n      <td>-8.843083</td>\n      <td>0.048203</td>\n      <td>1.302232</td>\n      <td>100.000000</td>\n      <td>-0.212019</td>\n      <td>0.144849</td>\n      <td>0.248408</td>\n      <td>0.190214</td>\n      <td>-0.680672</td>\n      <td>12.547839</td>\n    </tr>\n    <tr>\n      <th>existing_credits</th>\n      <td>-0.005859</td>\n      <td>0.296182</td>\n      <td>45.061720</td>\n      <td>-0.311095</td>\n      <td>0.303052</td>\n      <td>0.642661</td>\n      <td>-0.028309</td>\n      <td>0.485972</td>\n      <td>0.023802</td>\n      <td>-0.014952</td>\n      <td>...</td>\n      <td>0.446483</td>\n      <td>0.313270</td>\n      <td>0.061864</td>\n      <td>-0.212019</td>\n      <td>100.000000</td>\n      <td>-0.388128</td>\n      <td>-0.005113</td>\n      <td>0.076323</td>\n      <td>-0.033346</td>\n      <td>-3.135397</td>\n    </tr>\n    <tr>\n      <th>job</th>\n      <td>0.043869</td>\n      <td>0.409985</td>\n      <td>-0.415576</td>\n      <td>-0.163514</td>\n      <td>0.432091</td>\n      <td>-0.385102</td>\n      <td>21.857004</td>\n      <td>0.046987</td>\n      <td>0.927778</td>\n      <td>-0.357762</td>\n      <td>...</td>\n      <td>0.405284</td>\n      <td>0.453013</td>\n      <td>0.518158</td>\n      <td>0.144849</td>\n      <td>-0.388128</td>\n      <td>100.000000</td>\n      <td>-0.151130</td>\n      <td>-27.118376</td>\n      <td>-2.758048</td>\n      <td>3.628884</td>\n    </tr>\n    <tr>\n      <th>num_dependents</th>\n      <td>-0.575912</td>\n      <td>-0.019076</td>\n      <td>0.085066</td>\n      <td>-0.071671</td>\n      <td>-0.026800</td>\n      <td>0.258757</td>\n      <td>0.350797</td>\n      <td>0.242927</td>\n      <td>-22.066250</td>\n      <td>0.321177</td>\n      <td>...</td>\n      <td>-0.308515</td>\n      <td>-0.025311</td>\n      <td>-0.384874</td>\n      <td>0.248408</td>\n      <td>-0.005113</td>\n      <td>-0.151130</td>\n      <td>100.000000</td>\n      <td>-0.043612</td>\n      <td>0.449034</td>\n      <td>0.337973</td>\n    </tr>\n    <tr>\n      <th>own_telephone</th>\n      <td>-0.092097</td>\n      <td>-0.613331</td>\n      <td>0.037219</td>\n      <td>0.204768</td>\n      <td>-0.637778</td>\n      <td>-0.692971</td>\n      <td>-8.706735</td>\n      <td>0.548746</td>\n      <td>0.403166</td>\n      <td>0.208117</td>\n      <td>...</td>\n      <td>-0.563908</td>\n      <td>-0.641996</td>\n      <td>0.212590</td>\n      <td>0.190214</td>\n      <td>0.076323</td>\n      <td>-27.118376</td>\n      <td>-0.043612</td>\n      <td>100.000000</td>\n      <td>10.000161</td>\n      <td>3.387500</td>\n    </tr>\n    <tr>\n      <th>foreign_worker</th>\n      <td>0.503044</td>\n      <td>0.282598</td>\n      <td>0.440537</td>\n      <td>0.105657</td>\n      <td>0.277708</td>\n      <td>1.489895</td>\n      <td>-0.353094</td>\n      <td>0.346186</td>\n      <td>0.053260</td>\n      <td>0.481280</td>\n      <td>...</td>\n      <td>0.143421</td>\n      <td>0.285597</td>\n      <td>-1.291059</td>\n      <td>-0.680672</td>\n      <td>-0.033346</td>\n      <td>-2.758048</td>\n      <td>0.449034</td>\n      <td>10.000161</td>\n      <td>100.000000</td>\n      <td>-7.274385</td>\n    </tr>\n    <tr>\n      <th>class</th>\n      <td>-9.693609</td>\n      <td>0.317903</td>\n      <td>-2.510933</td>\n      <td>7.168168</td>\n      <td>0.273987</td>\n      <td>-15.451010</td>\n      <td>-4.921804</td>\n      <td>-3.062280</td>\n      <td>7.140341</td>\n      <td>-7.567453</td>\n      <td>...</td>\n      <td>-4.538939</td>\n      <td>0.254249</td>\n      <td>10.543909</td>\n      <td>12.547839</td>\n      <td>-3.135397</td>\n      <td>3.628884</td>\n      <td>0.337973</td>\n      <td>3.387500</td>\n      <td>-7.274385</td>\n      <td>100.000000</td>\n    </tr>\n  </tbody>\n</table>\n<p>21 rows × 21 columns</p>\n</div>"
     },
     "metadata": {},
     "execution_count": 9
    }
   ],
   "source": [
    "# Correlation matrix\n",
    "\n",
    "df.apply(lambda x : pd.factorize(x)[0]).corr(method='pearson', min_periods=1)*100"
   ]
  },
  {
   "source": [
    "### Based on the correlation matrix, we can see that the variables\n",
    " -->  duration;\n",
    "\n",
    " -->   credit_amount (weird)\n",
    "\n",
    " -->   age\n",
    " \n",
    " -->   number of dependents \n",
    "\n",
    " Exhibit no correlation with the the target variable class (perhaps we could drop some of these)"
   ],
   "cell_type": "markdown",
   "metadata": {}
  },
  {
   "cell_type": "code",
   "execution_count": 10,
   "metadata": {},
   "outputs": [
    {
     "output_type": "stream",
     "name": "stdout",
     "text": [
      "checking_status           0\nduration                  0\ncredit_history            0\npurpose                   0\ncredit_amount             0\nsavings_status            0\nemployment                0\ninstallment_commitment    0\npersonal_status           0\nother_parties             0\nresidence_since           0\nproperty_magnitude        0\nage                       0\nother_payment_plans       0\nhousing                   0\nexisting_credits          0\njob                       0\nnum_dependents            0\nown_telephone             0\nforeign_worker            0\nclass                     0\ndtype: int64\nWe dont have any missing vlaues as well\n"
     ]
    }
   ],
   "source": [
    "print(df.isna().sum())\n",
    "\n",
    "print(\"We dont have any missing vlaues as well\")"
   ]
  },
  {
   "source": [
    "### We have 21 features, where most of them are string type and then\n",
    "    Duration, credit_amount, installment_commitment, residence_since, age, existing_credits, num_dependents are either ints or floats"
   ],
   "cell_type": "markdown",
   "metadata": {}
  },
  {
   "source": [
    "#### Our categorical variables include: \n",
    "    Checking_status, credit_history, purpose, saving_status, employment, personal status, other_parties, property_magnitude\n",
    "    other_payment_loans, housing, job, own_telephone, foreign_worker"
   ],
   "cell_type": "markdown",
   "metadata": {}
  },
  {
   "cell_type": "code",
   "execution_count": null,
   "metadata": {},
   "outputs": [],
   "source": []
  },
  {
   "cell_type": "code",
   "execution_count": null,
   "metadata": {},
   "outputs": [],
   "source": []
  },
  {
   "source": [
    "### Our target variable I believe is the class\n",
    "    which follows a binomial distribution"
   ],
   "cell_type": "markdown",
   "metadata": {}
  },
  {
   "cell_type": "markdown",
   "metadata": {},
   "source": [
    "## Feature engineering\n",
    "Creating good features is probably the most important step in the machine learning process. \n",
    "This might involve doing:\n",
    "- transformations\n",
    "- aggregating over data points or over time and space, or finding differences (for example: differences between two monthly bills, time difference between two contacts with the client) \n",
    "- creating dummy (binary) variables\n",
    "- discretization. \n",
    "\n",
    "Business insight is very relevant in this process.\n",
    "\n",
    "For projects where some features are anonymized, not a lot can be done here, except preparing the format of the variables to be suitable for the selected model.\n"
   ]
  },
  {
   "cell_type": "code",
   "execution_count": 11,
   "metadata": {},
   "outputs": [
    {
     "output_type": "execute_result",
     "data": {
      "text/plain": [
       "59518"
      ]
     },
     "metadata": {},
     "execution_count": 11
    }
   ],
   "source": [
    "# Funny how there are so many people without a telephone\n",
    "\n",
    "df.own_telephone.str.contains('none').sum()"
   ]
  },
  {
   "cell_type": "code",
   "execution_count": 12,
   "metadata": {},
   "outputs": [],
   "source": [
    "#Transforming columns with objects into strings \n",
    "\n",
    "df = df.replace({'V': ''}, regex=True)\n",
    "df['checking_status'] = df['checking_status'].astype(int)\n",
    "\n",
    "df['credit_history'] = df['credit_history'].astype(int)\n",
    "\n",
    "df['purpose'] = df['purpose'].astype(int)\n",
    "\n",
    "df['savings_status '] = df['savings_status'].astype(int)\n",
    "\n",
    "df['employment'] = df['employment'].astype(int)\n",
    "\n",
    "df['personal_status'] = df['personal_status'].astype(int)\n",
    "\n",
    "df['other_parties'] = df['other_parties'].astype(int)\n",
    "\n",
    "df['property_magnitude'] = df['property_magnitude'].astype(int)\n",
    "\n",
    "df['other_payment_plans'] = df['other_payment_plans'].replace({'none':0,'bank':1,'stores':2})\n",
    "\n",
    "df['housing'] = df['housing'].astype(int)\n",
    "\n",
    "df['job'] = df['job'].astype(int)\n",
    "\n",
    "df['own_telephone'] = df['own_telephone'].replace({'none':0,'yes':1})\n",
    "\n",
    "df['foreign_worker'] = df['foreign_worker'].replace({'no':0,'yes':1})\n",
    "\n",
    "df['class'] = df['class'].replace({'bad':0,'good':1})"
   ]
  },
  {
   "cell_type": "code",
   "execution_count": 13,
   "metadata": {},
   "outputs": [],
   "source": [
    "# X_train_data = df['age']\n",
    "\n",
    "# bins = [0, 18, 30, 50, 75]\n",
    "# labels = ['Infant', 'Young adult', 'Adult', 'Elderly'] # think of an alternative name for elderly\n",
    "\n",
    "# X_train_data['AgeGroup'] = pd.cut(X_train_data , bins=bins, labels=labels, right=False)"
   ]
  },
  {
   "cell_type": "code",
   "execution_count": 14,
   "metadata": {},
   "outputs": [],
   "source": [
    "### First transformation we could make that i remembered was to aggregate age column into decades\n",
    "\n",
    "# print(X_train_data['AgeGroup'].value_counts())\n",
    "\n",
    "# Now we could compare several metrics for each group age\n",
    "\n",
    "# mean_youngadults = df.loc[df['AgeGroup'] == \"Young adult\", \"credit_amount\"].mean() \n",
    "# mean_adults = df.loc[df['AgeGroup'] == \"Adult\", \"credit_amount\"].mean() \n"
   ]
  },
  {
   "cell_type": "code",
   "execution_count": 15,
   "metadata": {},
   "outputs": [
    {
     "output_type": "execute_result",
     "data": {
      "text/plain": [
       "   checking_status   duration  credit_history  purpose  credit_amount  \\\n",
       "0                0  12.004672               2        3    1069.707979   \n",
       "1                3  49.594552               2        2    3363.626999   \n",
       "2                3  16.498608               2        3    8146.275518   \n",
       "\n",
       "  savings_status  employment  installment_commitment  personal_status  \\\n",
       "0              0           2                       4                2   \n",
       "1              0           2                       4                2   \n",
       "2              0           1                       1                1   \n",
       "\n",
       "   other_parties  ...        age  other_payment_plans  housing  \\\n",
       "0              1  ...  30.587687                    0        1   \n",
       "1              0  ...  27.943103                    0        1   \n",
       "2              0  ...  32.209940                    0        1   \n",
       "\n",
       "   existing_credits  job  num_dependents  own_telephone  foreign_worker  \\\n",
       "0                 1    2               1              1               1   \n",
       "1                 1    2               1              0               1   \n",
       "2                 1    2               1              0               1   \n",
       "\n",
       "   class  savings_status   \n",
       "0      1                0  \n",
       "1      1                0  \n",
       "2      1                0  \n",
       "\n",
       "[3 rows x 22 columns]"
      ],
      "text/html": "<div>\n<style scoped>\n    .dataframe tbody tr th:only-of-type {\n        vertical-align: middle;\n    }\n\n    .dataframe tbody tr th {\n        vertical-align: top;\n    }\n\n    .dataframe thead th {\n        text-align: right;\n    }\n</style>\n<table border=\"1\" class=\"dataframe\">\n  <thead>\n    <tr style=\"text-align: right;\">\n      <th></th>\n      <th>checking_status</th>\n      <th>duration</th>\n      <th>credit_history</th>\n      <th>purpose</th>\n      <th>credit_amount</th>\n      <th>savings_status</th>\n      <th>employment</th>\n      <th>installment_commitment</th>\n      <th>personal_status</th>\n      <th>other_parties</th>\n      <th>...</th>\n      <th>age</th>\n      <th>other_payment_plans</th>\n      <th>housing</th>\n      <th>existing_credits</th>\n      <th>job</th>\n      <th>num_dependents</th>\n      <th>own_telephone</th>\n      <th>foreign_worker</th>\n      <th>class</th>\n      <th>savings_status</th>\n    </tr>\n  </thead>\n  <tbody>\n    <tr>\n      <th>0</th>\n      <td>0</td>\n      <td>12.004672</td>\n      <td>2</td>\n      <td>3</td>\n      <td>1069.707979</td>\n      <td>0</td>\n      <td>2</td>\n      <td>4</td>\n      <td>2</td>\n      <td>1</td>\n      <td>...</td>\n      <td>30.587687</td>\n      <td>0</td>\n      <td>1</td>\n      <td>1</td>\n      <td>2</td>\n      <td>1</td>\n      <td>1</td>\n      <td>1</td>\n      <td>1</td>\n      <td>0</td>\n    </tr>\n    <tr>\n      <th>1</th>\n      <td>3</td>\n      <td>49.594552</td>\n      <td>2</td>\n      <td>2</td>\n      <td>3363.626999</td>\n      <td>0</td>\n      <td>2</td>\n      <td>4</td>\n      <td>2</td>\n      <td>0</td>\n      <td>...</td>\n      <td>27.943103</td>\n      <td>0</td>\n      <td>1</td>\n      <td>1</td>\n      <td>2</td>\n      <td>1</td>\n      <td>0</td>\n      <td>1</td>\n      <td>1</td>\n      <td>0</td>\n    </tr>\n    <tr>\n      <th>2</th>\n      <td>3</td>\n      <td>16.498608</td>\n      <td>2</td>\n      <td>3</td>\n      <td>8146.275518</td>\n      <td>0</td>\n      <td>1</td>\n      <td>1</td>\n      <td>1</td>\n      <td>0</td>\n      <td>...</td>\n      <td>32.209940</td>\n      <td>0</td>\n      <td>1</td>\n      <td>1</td>\n      <td>2</td>\n      <td>1</td>\n      <td>0</td>\n      <td>1</td>\n      <td>1</td>\n      <td>0</td>\n    </tr>\n  </tbody>\n</table>\n<p>3 rows × 22 columns</p>\n</div>"
     },
     "metadata": {},
     "execution_count": 15
    }
   ],
   "source": [
    "df.head(3)"
   ]
  },
  {
   "cell_type": "code",
   "execution_count": 16,
   "metadata": {},
   "outputs": [
    {
     "output_type": "execute_result",
     "data": {
      "text/plain": [
       "      num_dependents        own_telephone        foreign_worker       \n",
       "                   1      2             0      1              0      1\n",
       "class                                                                 \n",
       "0              25408   4852         18774  11486            539  29721\n",
       "1              58745  10995         40744  28996           3387  66353"
      ],
      "text/html": "<div>\n<style scoped>\n    .dataframe tbody tr th:only-of-type {\n        vertical-align: middle;\n    }\n\n    .dataframe tbody tr th {\n        vertical-align: top;\n    }\n\n    .dataframe thead tr th {\n        text-align: left;\n    }\n\n    .dataframe thead tr:last-of-type th {\n        text-align: right;\n    }\n</style>\n<table border=\"1\" class=\"dataframe\">\n  <thead>\n    <tr>\n      <th></th>\n      <th colspan=\"2\" halign=\"left\">num_dependents</th>\n      <th colspan=\"2\" halign=\"left\">own_telephone</th>\n      <th colspan=\"2\" halign=\"left\">foreign_worker</th>\n    </tr>\n    <tr>\n      <th></th>\n      <th>1</th>\n      <th>2</th>\n      <th>0</th>\n      <th>1</th>\n      <th>0</th>\n      <th>1</th>\n    </tr>\n    <tr>\n      <th>class</th>\n      <th></th>\n      <th></th>\n      <th></th>\n      <th></th>\n      <th></th>\n      <th></th>\n    </tr>\n  </thead>\n  <tbody>\n    <tr>\n      <th>0</th>\n      <td>25408</td>\n      <td>4852</td>\n      <td>18774</td>\n      <td>11486</td>\n      <td>539</td>\n      <td>29721</td>\n    </tr>\n    <tr>\n      <th>1</th>\n      <td>58745</td>\n      <td>10995</td>\n      <td>40744</td>\n      <td>28996</td>\n      <td>3387</td>\n      <td>66353</td>\n    </tr>\n  </tbody>\n</table>\n</div>"
     },
     "metadata": {},
     "execution_count": 16
    }
   ],
   "source": [
    "func = lambda x: 100*x.count()/df.shape[0] # to get percentage values instead of absolute frequencies\n",
    "\n",
    "a = pd.pivot_table(df, index=['class'], columns=['num_dependents'], aggfunc='size', fill_value = 0)\n",
    "b = pd.pivot_table(df, index=['class'], columns=['own_telephone'], aggfunc='size', fill_value = 0)\n",
    "c = pd.pivot_table(df, index=['class'], columns=['foreign_worker'], aggfunc='size', fill_value = 0)\n",
    "\n",
    "\n",
    "df_pivottable =  pd.concat([a, b, c], 1, keys=['num_dependents', 'own_telephone', 'foreign_worker'])\n",
    "\n",
    "# df_pivottable = pd.pivot_table(df, index=['class'], columns=['num_dependents', 'own_telephone', 'foreign_worker'], aggfunc='size', fill_value = 0)\n",
    "df_pivottable"
   ]
  },
  {
   "source": [
    "### Here we probably should drop outliers at least for credit_amount or duration"
   ],
   "cell_type": "markdown",
   "metadata": {}
  },
  {
   "cell_type": "code",
   "execution_count": 17,
   "metadata": {},
   "outputs": [
    {
     "output_type": "execute_result",
     "data": {
      "text/plain": [
       "   checking_status   duration  credit_history  purpose  credit_amount  \\\n",
       "0                0  12.004672               2        3    1069.707979   \n",
       "1                3  49.594552               2        2    3363.626999   \n",
       "2                3  16.498608               2        3    8146.275518   \n",
       "3                1   9.031862               1        0     860.689994   \n",
       "4                3  12.401648               4        2    1390.126876   \n",
       "\n",
       "  savings_status  employment  installment_commitment  personal_status  \\\n",
       "0              0           2                       4                2   \n",
       "1              0           2                       4                2   \n",
       "2              0           1                       1                1   \n",
       "3              0           4                       4                1   \n",
       "4              3           4                       1                2   \n",
       "\n",
       "   other_parties  ...  other_payment_plans  housing  existing_credits  job  \\\n",
       "0              1  ...                    0        1                 1    2   \n",
       "1              0  ...                    0        1                 1    2   \n",
       "2              0  ...                    0        1                 1    2   \n",
       "3              0  ...                    0        1                 2    1   \n",
       "4              0  ...                    0        1                 4    2   \n",
       "\n",
       "   num_dependents  own_telephone  foreign_worker  class  savings_status   \\\n",
       "0               1              1               1      1                0   \n",
       "1               1              0               1      1                0   \n",
       "2               1              0               1      1                0   \n",
       "3               1              1               1      1                0   \n",
       "4               1              0               1      1                3   \n",
       "\n",
       "   credit_amount_outliers  \n",
       "0               -0.767668  \n",
       "1                0.053885  \n",
       "2                1.766760  \n",
       "3               -0.842527  \n",
       "4               -0.652912  \n",
       "\n",
       "[5 rows x 23 columns]"
      ],
      "text/html": "<div>\n<style scoped>\n    .dataframe tbody tr th:only-of-type {\n        vertical-align: middle;\n    }\n\n    .dataframe tbody tr th {\n        vertical-align: top;\n    }\n\n    .dataframe thead th {\n        text-align: right;\n    }\n</style>\n<table border=\"1\" class=\"dataframe\">\n  <thead>\n    <tr style=\"text-align: right;\">\n      <th></th>\n      <th>checking_status</th>\n      <th>duration</th>\n      <th>credit_history</th>\n      <th>purpose</th>\n      <th>credit_amount</th>\n      <th>savings_status</th>\n      <th>employment</th>\n      <th>installment_commitment</th>\n      <th>personal_status</th>\n      <th>other_parties</th>\n      <th>...</th>\n      <th>other_payment_plans</th>\n      <th>housing</th>\n      <th>existing_credits</th>\n      <th>job</th>\n      <th>num_dependents</th>\n      <th>own_telephone</th>\n      <th>foreign_worker</th>\n      <th>class</th>\n      <th>savings_status</th>\n      <th>credit_amount_outliers</th>\n    </tr>\n  </thead>\n  <tbody>\n    <tr>\n      <th>0</th>\n      <td>0</td>\n      <td>12.004672</td>\n      <td>2</td>\n      <td>3</td>\n      <td>1069.707979</td>\n      <td>0</td>\n      <td>2</td>\n      <td>4</td>\n      <td>2</td>\n      <td>1</td>\n      <td>...</td>\n      <td>0</td>\n      <td>1</td>\n      <td>1</td>\n      <td>2</td>\n      <td>1</td>\n      <td>1</td>\n      <td>1</td>\n      <td>1</td>\n      <td>0</td>\n      <td>-0.767668</td>\n    </tr>\n    <tr>\n      <th>1</th>\n      <td>3</td>\n      <td>49.594552</td>\n      <td>2</td>\n      <td>2</td>\n      <td>3363.626999</td>\n      <td>0</td>\n      <td>2</td>\n      <td>4</td>\n      <td>2</td>\n      <td>0</td>\n      <td>...</td>\n      <td>0</td>\n      <td>1</td>\n      <td>1</td>\n      <td>2</td>\n      <td>1</td>\n      <td>0</td>\n      <td>1</td>\n      <td>1</td>\n      <td>0</td>\n      <td>0.053885</td>\n    </tr>\n    <tr>\n      <th>2</th>\n      <td>3</td>\n      <td>16.498608</td>\n      <td>2</td>\n      <td>3</td>\n      <td>8146.275518</td>\n      <td>0</td>\n      <td>1</td>\n      <td>1</td>\n      <td>1</td>\n      <td>0</td>\n      <td>...</td>\n      <td>0</td>\n      <td>1</td>\n      <td>1</td>\n      <td>2</td>\n      <td>1</td>\n      <td>0</td>\n      <td>1</td>\n      <td>1</td>\n      <td>0</td>\n      <td>1.766760</td>\n    </tr>\n    <tr>\n      <th>3</th>\n      <td>1</td>\n      <td>9.031862</td>\n      <td>1</td>\n      <td>0</td>\n      <td>860.689994</td>\n      <td>0</td>\n      <td>4</td>\n      <td>4</td>\n      <td>1</td>\n      <td>0</td>\n      <td>...</td>\n      <td>0</td>\n      <td>1</td>\n      <td>2</td>\n      <td>1</td>\n      <td>1</td>\n      <td>1</td>\n      <td>1</td>\n      <td>1</td>\n      <td>0</td>\n      <td>-0.842527</td>\n    </tr>\n    <tr>\n      <th>4</th>\n      <td>3</td>\n      <td>12.401648</td>\n      <td>4</td>\n      <td>2</td>\n      <td>1390.126876</td>\n      <td>3</td>\n      <td>4</td>\n      <td>1</td>\n      <td>2</td>\n      <td>0</td>\n      <td>...</td>\n      <td>0</td>\n      <td>1</td>\n      <td>4</td>\n      <td>2</td>\n      <td>1</td>\n      <td>0</td>\n      <td>1</td>\n      <td>1</td>\n      <td>3</td>\n      <td>-0.652912</td>\n    </tr>\n  </tbody>\n</table>\n<p>5 rows × 23 columns</p>\n</div>"
     },
     "metadata": {},
     "execution_count": 17
    }
   ],
   "source": [
    "df1 = df\n",
    "df1['credit_amount_outliers'] = df['credit_amount']\n",
    "df1['credit_amount_outliers']= zscore(df1['credit_amount_outliers'])\n",
    "\n",
    "condition1 = (df1['credit_amount_outliers']> 10500)\n",
    "df1 = df1.drop(df1[condition1].index, axis = 0, inplace= False)\n",
    "df1.head(5)"
   ]
  },
  {
   "cell_type": "code",
   "execution_count": 18,
   "metadata": {},
   "outputs": [],
   "source": [
    "# DATA SCALING AND NORMALIZATION"
   ]
  },
  {
   "cell_type": "code",
   "execution_count": null,
   "metadata": {},
   "outputs": [],
   "source": []
  },
  {
   "cell_type": "markdown",
   "metadata": {},
   "source": [
    "## Modeling\n",
    "You should implemente AT LEAST ONE approach we covered so far, and tune of at least one hyperparameter.\n",
    "Do not forget that you should split your data into train and test set.\n",
    "You should do model selection and tuning using cross validation on the train set.\n",
    "Explain and justify what is the metric you are using for model selection and tuning."
   ]
  },
  {
   "cell_type": "code",
   "execution_count": null,
   "metadata": {},
   "outputs": [],
   "source": []
  },
  {
   "cell_type": "code",
   "execution_count": null,
   "metadata": {},
   "outputs": [],
   "source": []
  },
  {
   "cell_type": "code",
   "execution_count": null,
   "metadata": {},
   "outputs": [],
   "source": []
  },
  {
   "cell_type": "markdown",
   "metadata": {},
   "source": [
    "## Model evaluation\n",
    "\n",
    "After selecting and tuning your model on the train set, you should evaluate its performance on the test set. \n",
    "You might have tuned your model using a certain metric, but now you should describe the model performance using all relevant metrics. \n",
    "If you have some business insight, why a certain metric is relevant, you should explain it. \n",
    "For example in disease detection, you might not want to have a false positive rate higher than some threshold (say 5%).\n",
    "\n",
    "If you preformed clustering, you should describe and visualize your clusters."
   ]
  },
  {
   "cell_type": "markdown",
   "metadata": {},
   "source": [
    "## Next steps\n",
    "\n",
    "If you already have an idea what are the next steps for your project, please describe them.\n",
    "This part is not graded, but can help us give you feedback."
   ]
  },
  {
   "cell_type": "code",
   "execution_count": null,
   "metadata": {},
   "outputs": [],
   "source": []
  },
  {
   "cell_type": "code",
   "execution_count": null,
   "metadata": {},
   "outputs": [],
   "source": []
  },
  {
   "cell_type": "code",
   "execution_count": null,
   "metadata": {},
   "outputs": [],
   "source": []
  },
  {
   "cell_type": "code",
   "execution_count": null,
   "metadata": {},
   "outputs": [],
   "source": []
  },
  {
   "cell_type": "code",
   "execution_count": null,
   "metadata": {},
   "outputs": [],
   "source": []
  },
  {
   "cell_type": "code",
   "execution_count": null,
   "metadata": {},
   "outputs": [],
   "source": []
  },
  {
   "cell_type": "code",
   "execution_count": null,
   "metadata": {},
   "outputs": [],
   "source": []
  },
  {
   "cell_type": "code",
   "execution_count": null,
   "metadata": {},
   "outputs": [],
   "source": []
  }
 ],
 "metadata": {
  "kernelspec": {
   "name": "python3",
   "display_name": "Python 3",
   "language": "python"
  },
  "language_info": {
   "codemirror_mode": {
    "name": "ipython",
    "version": 3
   },
   "file_extension": ".py",
   "mimetype": "text/x-python",
   "name": "python",
   "nbconvert_exporter": "python",
   "pygments_lexer": "ipython3",
   "version": "3.9.2-final"
  }
 },
 "nbformat": 4,
 "nbformat_minor": 4
}
